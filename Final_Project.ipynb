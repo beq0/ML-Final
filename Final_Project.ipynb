{
 "cells": [
  {
   "cell_type": "code",
   "execution_count": 19,
   "metadata": {},
   "outputs": [],
   "source": [
    "# Import libraries\n",
    "import numpy as np\n",
    "import pandas as pd\n",
    "import json\n",
    "\n",
    "# Import data\n",
    "data = pd.read_csv('mfp-diaries.tsv', sep='\\t')"
   ]
  },
  {
   "cell_type": "code",
   "execution_count": 26,
   "metadata": {},
   "outputs": [
    {
     "name": "stdout",
     "output_type": "stream",
     "text": [
      "\n",
      "------------- User 1 Date 2014-09-15 ---------------\n",
      "\n",
      "--------- Food Entries ----------\n",
      "[{'meal': 'MY food', 'dishes': [{'nutritions': [{'name': 'Calories', 'value': '412'}, {'name': 'Carbs', 'value': '29'}, {'name': 'Fat', 'value': '24'}, {'name': 'Protein', 'value': '21'}, {'name': 'Sodium', 'value': '258'}, {'name': 'Sugar', 'value': '29'}], 'name': 'my - McDonalds Espresso Pronto® Flat White, 2 TALL'}, {'nutritions': [{'name': 'Calories', 'value': '176'}, {'name': 'Carbs', 'value': '33'}, {'name': 'Fat', 'value': '1'}, {'name': 'Protein', 'value': '5'}, {'name': 'Sodium', 'value': '195'}, {'name': 'Sugar', 'value': '0'}], 'name': 'Uncle Tobys Australia - Vita Brits, 3 Biscuits 33.3g'}, {'nutritions': [{'name': 'Calories', 'value': '342'}, {'name': 'Carbs', 'value': '34'}, {'name': 'Fat', 'value': '12'}, {'name': 'Protein', 'value': '24'}, {'name': 'Sodium', 'value': '402'}, {'name': 'Sugar', 'value': '34'}], 'name': 'Pauls - Smarter White Milk, 600 ml'}, {'nutritions': [{'name': 'Calories', 'value': '500'}, {'name': 'Carbs', 'value': '0'}, {'name': 'Fat', 'value': '0'}, {'name': 'Protein', 'value': '0'}, {'name': 'Sodium', 'value': '0'}, {'name': 'Sugar', 'value': '0'}], 'name': 'Quick Added Calories, 500 calories'}, {'nutritions': [{'name': 'Calories', 'value': '1,000'}, {'name': 'Carbs', 'value': '0'}, {'name': 'Fat', 'value': '0'}, {'name': 'Protein', 'value': '0'}, {'name': 'Sodium', 'value': '0'}, {'name': 'Sugar', 'value': '0'}], 'name': 'Quick Added Calories, 1,000 calories'}], 'sequence': 1}]\n",
      "\n",
      "--------- Goal ----------\n",
      "{'total': [{'name': 'Calories', 'value': 2430}, {'name': 'Carbs', 'value': 96}, {'name': 'Fat', 'value': 37}, {'name': 'Protein', 'value': 50}, {'name': 'Sodium', 'value': 855}, {'name': 'Sugar', 'value': 63}], 'goal': [{'name': 'Calories', 'value': 1572}, {'name': 'Carbs', 'value': 196}, {'name': 'Fat', 'value': 52}, {'name': 'Protein', 'value': 79}, {'name': 'Sodium', 'value': 2300}, {'name': 'Sugar', 'value': 59}]}\n",
      "\n",
      "------------- User 1 Date 2014-09-16 ---------------\n",
      "\n",
      "--------- Food Entries ----------\n",
      "[{'meal': 'MY food', 'dishes': [{'nutritions': [{'name': 'Calories', 'value': '147'}, {'name': 'Carbs', 'value': '36'}, {'name': 'Fat', 'value': '0'}, {'name': 'Protein', 'value': '0'}, {'name': 'Sodium', 'value': '306'}, {'name': 'Sugar', 'value': '36'}], 'name': 'Gatorade - Lemon-Lime (Australia), 600 ml'}, {'nutritions': [{'name': 'Calories', 'value': '412'}, {'name': 'Carbs', 'value': '29'}, {'name': 'Fat', 'value': '24'}, {'name': 'Protein', 'value': '21'}, {'name': 'Sodium', 'value': '258'}, {'name': 'Sugar', 'value': '29'}], 'name': 'my - McDonalds Espresso Pronto® Flat White, 2 TALL'}, {'nutritions': [{'name': 'Calories', 'value': '176'}, {'name': 'Carbs', 'value': '33'}, {'name': 'Fat', 'value': '1'}, {'name': 'Protein', 'value': '5'}, {'name': 'Sodium', 'value': '195'}, {'name': 'Sugar', 'value': '0'}], 'name': 'Uncle Tobys Australia - Vita Brits, 3 Biscuits 33.3g'}, {'nutritions': [{'name': 'Calories', 'value': '342'}, {'name': 'Carbs', 'value': '34'}, {'name': 'Fat', 'value': '12'}, {'name': 'Protein', 'value': '24'}, {'name': 'Sodium', 'value': '402'}, {'name': 'Sugar', 'value': '34'}], 'name': 'Pauls - Smarter White Milk, 600 ml'}, {'nutritions': [{'name': 'Calories', 'value': '145'}, {'name': 'Carbs', 'value': '2'}, {'name': 'Fat', 'value': '1'}, {'name': 'Protein', 'value': '32'}, {'name': 'Sodium', 'value': '70'}, {'name': 'Sugar', 'value': '1'}], 'name': 'Redbak - Sting-chocolate, 40 g'}, {'nutritions': [{'name': 'Calories', 'value': '640'}, {'name': 'Carbs', 'value': '24'}, {'name': 'Fat', 'value': '16'}, {'name': 'Protein', 'value': '32'}, {'name': 'Sodium', 'value': '984'}, {'name': 'Sugar', 'value': '0'}], 'name': 'Generic - Pork Dumplings - Steamed, 8 Dumpling'}], 'sequence': 1}]\n",
      "\n",
      "--------- Goal ----------\n",
      "{'total': [{'name': 'Calories', 'value': 1862}, {'name': 'Carbs', 'value': 158}, {'name': 'Fat', 'value': 54}, {'name': 'Protein', 'value': 114}, {'name': 'Sodium', 'value': 2215}, {'name': 'Sugar', 'value': 100}], 'goal': [{'name': 'Calories', 'value': 1832}, {'name': 'Carbs', 'value': 229}, {'name': 'Fat', 'value': 61}, {'name': 'Protein', 'value': 92}, {'name': 'Sodium', 'value': 2300}, {'name': 'Sugar', 'value': 69}]}\n"
     ]
    }
   ],
   "source": [
    "for i in range(2):\n",
    "    user_id = data.iloc[i,0]\n",
    "    date = data.iloc[i,1]\n",
    "    food_entries = json.loads(data.iloc[i, 2])\n",
    "    agregate_intake_goal = json.loads(data.iloc[i,3])\n",
    "    print('\\n------------- User ' + str(user_id) + ' Date ' + str(date) + ' ---------------\\n')\n",
    "    print('--------- Food Entries ----------')\n",
    "    print(food_entries)\n",
    "    print('\\n--------- Goal ----------')\n",
    "    print(agregate_intake_goal)"
   ]
  },
  {
   "cell_type": "code",
   "execution_count": null,
   "metadata": {},
   "outputs": [],
   "source": []
  }
 ],
 "metadata": {
  "kernelspec": {
   "display_name": "Python 3",
   "language": "python",
   "name": "python3"
  },
  "language_info": {
   "codemirror_mode": {
    "name": "ipython",
    "version": 3
   },
   "file_extension": ".py",
   "mimetype": "text/x-python",
   "name": "python",
   "nbconvert_exporter": "python",
   "pygments_lexer": "ipython3",
   "version": "3.8.3"
  }
 },
 "nbformat": 4,
 "nbformat_minor": 4
}
