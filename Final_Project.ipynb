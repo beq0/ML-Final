{
 "cells": [
  {
   "cell_type": "markdown",
   "metadata": {},
   "source": [
    "# მოდელის ამოცანის დასმა\n",
    "<span style=\"font-size: 16px;\">დიეტა უამრავი ადამიანებისთვის ცხოვრების მნიშვნელოვანი ნაწილია; იქნება ეს ჯანმრთელობის გაუმჯობესების, შეხედულების შენარჩუნებისა თუ სხვა მიზეზების გამო. ზოგიერთ შემთხვევაში კი დიეტის მთავარ მიზანს საკვების გარკვეული ნივთიერების კონსისტენტურად მიღება წარმოადგენს. მოცემული მონაცემებიდან ჩვენ გვინდა, რომ ავაგოთ მოდელი, რომელიც მომხმარებელს შესთავაზებს, თუ რა საკვების მიღება არის მისთვის პრიორიტეტი, რათა სწორად მიჰყვეს მის დიეტას და მისთვის სასურველ შედეგს მიაღწიოს.</span>"
   ]
  },
  {
   "cell_type": "markdown",
   "metadata": {},
   "source": [
    "<span style=\"font-size: 16px;\">მიზნის მისაღწევად თავდაპირველად დავამუშავებთ მონაცემებს და გამოვიყენებთ ისეთ დიეტებს, რომელთაც მომხმარებლები დიდი სიზუსტით და დარღვევის გარეშე მიჰყვებოდნენ, მიღებული დიეტების შემადგენელ საკვებს კი შემდეგ მომხმარებლისთვის რეკომენდაციისთვის გამოვიყენებთ. მომხმარებელი გადმოგვცემს მონაცემებს, თუ რა არის მისთვის სასურველი/მისაღწევი საკვების ნივთიერებების შემადგენლობა, და თუ დღემდე როგორ მიჰყვებოდა თავის დიეტას, რისი დამუშავებითაც ჩვენი მოდელი ნახავს, თუ სავარაუდოდ რა შემცველობის საკვებს მიიღებს იგი შემდეგ დღეს, და გადაწყვეტს ნავარაუდევი საკვები კარგი არის თუ არა მომხმარებლისთვის და მისი დიეტისთვის, რის შემდეგაც მომხმარებელს მიღებულ შედეგს შეატყობინებს.</span>"
   ]
  },
  {
   "cell_type": "markdown",
   "metadata": {},
   "source": [
    "# მონაცემების გაანალიზება"
   ]
  },
  {
   "cell_type": "markdown",
   "metadata": {},
   "source": [
    "<span style=\"font-size: 16px;\">**ამოცანის გადაჭრის პირველ ეტაპზე გავარჩიოთ გადმოცემული მონაცემები**</span>"
   ]
  },
  {
   "cell_type": "markdown",
   "metadata": {},
   "source": [
    "<span style=\"font-size: 16px;\">თავდაპირველად დავაიმპორტოთ საჭირო ბიბლიოთეკები და შევინახოთ მონაცემები `train` ცვლადში.</span>"
   ]
  },
  {
   "cell_type": "code",
   "execution_count": 6,
   "metadata": {},
   "outputs": [],
   "source": [
    "# Import libraries\n",
    "import numpy as np\n",
    "import pandas as pd\n",
    "# We will need json as the given data and users' diet days are represented as JSON objects \n",
    "import json\n",
    "\n",
    "import tensorflow as tf\n",
    "from tensorflow.keras.models import Sequential\n",
    "from tensorflow.keras.layers import Dense, Dropout, LSTM\n",
    "\n",
    "# Store data\n",
    "train = pd.read_csv('mfp-diaries.tsv', sep='\\t')"
   ]
  },
  {
   "cell_type": "markdown",
   "metadata": {},
   "source": [
    "<span style=\"font-size: 16px;\">ვნახოთ, თუ როგორ გამოიყურება და რა სახის ფორმატში გვაქვს გადმოცემული მონაცემები</span>"
   ]
  },
  {
   "cell_type": "code",
   "execution_count": 8,
   "metadata": {},
   "outputs": [
    {
     "name": "stdout",
     "output_type": "stream",
     "text": [
      "<class 'pandas.core.frame.DataFrame'>\n",
      "RangeIndex: 587186 entries, 0 to 587185\n",
      "Data columns (total 4 columns):\n",
      " #   Column                                                                                                                                                                                                                                                                                                                                                                                                                                                                                                                                                                                                                                                                                                                                                                                                                                                                                                                                                                                                                                                                                                                                                                                                                                                                                                                                                                                                                                                                                                                                                                                                                                                                                                                                                                                                                                                                                                                                                                                                                                                                                                                                                                                                                                                                                                                                                                                                                                                                                                                                                                                                                                                                                                                                                                                                                                                                                                                                                                                                                                                                                                                                                                                                                                                                                      Non-Null Count   Dtype \n",
      "---  ------                                                                                                                                                                                                                                                                                                                                                                                                                                                                                                                                                                                                                                                                                                                                                                                                                                                                                                                                                                                                                                                                                                                                                                                                                                                                                                                                                                                                                                                                                                                                                                                                                                                                                                                                                                                                                                                                                                                                                                                                                                                                                                                                                                                                                                                                                                                                                                                                                                                                                                                                                                                                                                                                                                                                                                                                                                                                                                                                                                                                                                                                                                                                                                                                                                                                                      --------------   ----- \n",
      " 0   1                                                                                                                                                                                                                                                                                                                                                                                                                                                                                                                                                                                                                                                                                                                                                                                                                                                                                                                                                                                                                                                                                                                                                                                                                                                                                                                                                                                                                                                                                                                                                                                                                                                                                                                                                                                                                                                                                                                                                                                                                                                                                                                                                                                                                                                                                                                                                                                                                                                                                                                                                                                                                                                                                                                                                                                                                                                                                                                                                                                                                                                                                                                                                                                                                                                                                           587186 non-null  int64 \n",
      " 1   2014-09-14                                                                                                                                                                                                                                                                                                                                                                                                                                                                                                                                                                                                                                                                                                                                                                                                                                                                                                                                                                                                                                                                                                                                                                                                                                                                                                                                                                                                                                                                                                                                                                                                                                                                                                                                                                                                                                                                                                                                                                                                                                                                                                                                                                                                                                                                                                                                                                                                                                                                                                                                                                                                                                                                                                                                                                                                                                                                                                                                                                                                                                                                                                                                                                                                                                                                                  587186 non-null  object\n",
      " 2   [{\"meal\": \"MY food\", \"dishes\": [{\"nutritions\": [{\"name\": \"Calories\", \"value\": \"412\"}, {\"name\": \"Carbs\", \"value\": \"29\"}, {\"name\": \"Fat\", \"value\": \"24\"}, {\"name\": \"Protein\", \"value\": \"21\"}, {\"name\": \"Sodium\", \"value\": \"258\"}, {\"name\": \"Sugar\", \"value\": \"29\"}], \"name\": \"my - McDonalds Espresso Pronto\\u00ae Flat White, 2 TALL\"}, {\"nutritions\": [{\"name\": \"Calories\", \"value\": \"170\"}, {\"name\": \"Carbs\", \"value\": \"25\"}, {\"name\": \"Fat\", \"value\": \"5\"}, {\"name\": \"Protein\", \"value\": \"20\"}, {\"name\": \"Sodium\", \"value\": \"260\"}, {\"name\": \"Sugar\", \"value\": \"2\"}], \"name\": \"Quest Bar - Banana Nut Muffin Natural Protein Bar, 60 g\"}, {\"nutritions\": [{\"name\": \"Calories\", \"value\": \"176\"}, {\"name\": \"Carbs\", \"value\": \"33\"}, {\"name\": \"Fat\", \"value\": \"1\"}, {\"name\": \"Protein\", \"value\": \"5\"}, {\"name\": \"Sodium\", \"value\": \"195\"}, {\"name\": \"Sugar\", \"value\": \"0\"}], \"name\": \"Uncle Tobys Australia - Vita Brits, 3 Biscuits 33.3g\"}, {\"nutritions\": [{\"name\": \"Calories\", \"value\": \"342\"}, {\"name\": \"Carbs\", \"value\": \"34\"}, {\"name\": \"Fat\", \"value\": \"12\"}, {\"name\": \"Protein\", \"value\": \"24\"}, {\"name\": \"Sodium\", \"value\": \"402\"}, {\"name\": \"Sugar\", \"value\": \"34\"}], \"name\": \"Pauls - Smarter White Milk, 600 ml\"}, {\"nutritions\": [{\"name\": \"Calories\", \"value\": \"180\"}, {\"name\": \"Carbs\", \"value\": \"22\"}, {\"name\": \"Fat\", \"value\": \"7\"}, {\"name\": \"Protein\", \"value\": \"21\"}, {\"name\": \"Sodium\", \"value\": \"310\"}, {\"name\": \"Sugar\", \"value\": \"1\"}], \"name\": \"Quest Bar - Cookies and Cream, 1 bar\"}, {\"nutritions\": [{\"name\": \"Calories\", \"value\": \"180\"}, {\"name\": \"Carbs\", \"value\": \"46\"}, {\"name\": \"Fat\", \"value\": \"0\"}, {\"name\": \"Protein\", \"value\": \"0\"}, {\"name\": \"Sodium\", \"value\": \"100\"}, {\"name\": \"Sugar\", \"value\": \"22\"}], \"name\": \"Gu Sports - Chomps, 8 pieces\"}, {\"nutritions\": [{\"name\": \"Calories\", \"value\": \"170\"}, {\"name\": \"Carbs\", \"value\": \"25\"}, {\"name\": \"Fat\", \"value\": \"5\"}, {\"name\": \"Protein\", \"value\": \"20\"}, {\"name\": \"Sodium\", \"value\": \"260\"}, {\"name\": \"Sugar\", \"value\": \"2\"}], \"name\": \"Quest Bar - Banana Nut Muffin Natural Protein Bar, 60 g\"}, {\"nutritions\": [{\"name\": \"Calories\", \"value\": \"160\"}, {\"name\": \"Carbs\", \"value\": \"25\"}, {\"name\": \"Fat\", \"value\": \"5\"}, {\"name\": \"Protein\", \"value\": \"20\"}, {\"name\": \"Sodium\", \"value\": \"240\"}, {\"name\": \"Sugar\", \"value\": \"2\"}], \"name\": \"Quest - Protein Bar Chocolate Peanut Butter, 1 bar (60 g)\"}, {\"nutritions\": [{\"name\": \"Calories\", \"value\": \"686\"}, {\"name\": \"Carbs\", \"value\": \"59\"}, {\"name\": \"Fat\", \"value\": \"31\"}, {\"name\": \"Protein\", \"value\": \"40\"}, {\"name\": \"Sodium\", \"value\": \"1,105\"}, {\"name\": \"Sugar\", \"value\": \"9\"}], \"name\": \"Grilld - Simply Grilled (Real), 1.25 burger\"}, {\"nutritions\": [{\"name\": \"Calories\", \"value\": \"252\"}, {\"name\": \"Carbs\", \"value\": \"27\"}, {\"name\": \"Fat\", \"value\": \"14\"}, {\"name\": \"Protein\", \"value\": \"5\"}, {\"name\": \"Sodium\", \"value\": \"352\"}, {\"name\": \"Sugar\", \"value\": \"1\"}], \"name\": \"Grilld - Snack Chips, 1 snack size\"}, {\"nutritions\": [{\"name\": \"Calories\", \"value\": \"196\"}, {\"name\": \"Carbs\", \"value\": \"15\"}, {\"name\": \"Fat\", \"value\": \"10\"}, {\"name\": \"Protein\", \"value\": \"10\"}, {\"name\": \"Sodium\", \"value\": \"176\"}, {\"name\": \"Sugar\", \"value\": \"7\"}], \"name\": \"Tasti - Salted Caramel Protein Bar, 40 g\"}], \"sequence\": 1}]  587186 non-null  object\n",
      " 3   {\"total\": [{\"name\": \"Calories\", \"value\": 2924}, {\"name\": \"Carbs\", \"value\": 340}, {\"name\": \"Fat\", \"value\": 114}, {\"name\": \"Protein\", \"value\": 186}, {\"name\": \"Sodium\", \"value\": 3658}, {\"name\": \"Sugar\", \"value\": 109}], \"goal\": [{\"name\": \"Calories\", \"value\": 3173}, {\"name\": \"Carbs\", \"value\": 396}, {\"name\": \"Fat\", \"value\": 105}, {\"name\": \"Protein\", \"value\": 160}, {\"name\": \"Sodium\", \"value\": 2300}, {\"name\": \"Sugar\", \"value\": 119}]}                                                                                                                                                                                                                                                                                                                                                                                                                                                                                                                                                                                                                                                                                                                                                                                                                                                                                                                                                                                                                                                                                                                                                                                                                                                                                                                                                                                                                                                                                                                                                                                                                                                                                                                                                                                                                                                                                                                                                                                                                                                                                                                                                                                                                                                                                                                                                                                                                                                                                                                                                                                                                                                                                                                                                                                                                                               587186 non-null  object\n",
      "dtypes: int64(1), object(3)\n",
      "memory usage: 17.9+ MB\n"
     ]
    }
   ],
   "source": [
    "train.info()"
   ]
  },
  {
   "cell_type": "markdown",
   "metadata": {},
   "source": [
    "<span style=\"font-size: 16px;\">მონაცემებზე კარგად დაკვირვებით ვხედავთ, რომ ჩვენი მონაცემები შედგება **მომხმარებლის იდენტიფიკატორით**, **თარიღით**, მიმდინარე დღეს **მიღებული საკვების ნივთიერებების რაოდენობითა** და მისი მიმდინარე დღის **სასურველი ნივთიერებების მიღების რაოდენობა (მიზანი)**. მონაცემების უკეთ დასანახად/გასანაწილებლად ვნახოთ პირველი მომხმარებლის პირველი დღის ჩანაწერი:</span>"
   ]
  },
  {
   "cell_type": "code",
   "execution_count": 20,
   "metadata": {},
   "outputs": [],
   "source": [
    "def get_details_for_index(data, row_index):\n",
    "    \"\"\"This function returns details of user data for given row index\"\"\"\n",
    "    # Id of the first user\n",
    "    user_id = data.iloc[0, 0]\n",
    "    # Date of the first user's first day of the diet\n",
    "    date = data.iloc[0, 1]\n",
    "    # User's intake of neutrients for the day\n",
    "    food_entries = json.loads(data.iloc[0, 2])\n",
    "    # User's goal intake of neutrients for the day\n",
    "    intake_goal = json.loads(data.iloc[0,3])\n",
    "    \n",
    "    return (user_id, date, food_entries, intake_goal)"
   ]
  },
  {
   "cell_type": "code",
   "execution_count": 21,
   "metadata": {},
   "outputs": [
    {
     "name": "stdout",
     "output_type": "stream",
     "text": [
      "\n",
      "------------- User 1 Date 2014-09-15 -------------\n",
      "\n",
      "------------- Food Entries -------------\n",
      "[{'meal': 'MY food', 'dishes': [{'nutritions': [{'name': 'Calories', 'value': '412'}, {'name': 'Carbs', 'value': '29'}, {'name': 'Fat', 'value': '24'}, {'name': 'Protein', 'value': '21'}, {'name': 'Sodium', 'value': '258'}, {'name': 'Sugar', 'value': '29'}], 'name': 'my - McDonalds Espresso Pronto® Flat White, 2 TALL'}, {'nutritions': [{'name': 'Calories', 'value': '176'}, {'name': 'Carbs', 'value': '33'}, {'name': 'Fat', 'value': '1'}, {'name': 'Protein', 'value': '5'}, {'name': 'Sodium', 'value': '195'}, {'name': 'Sugar', 'value': '0'}], 'name': 'Uncle Tobys Australia - Vita Brits, 3 Biscuits 33.3g'}, {'nutritions': [{'name': 'Calories', 'value': '342'}, {'name': 'Carbs', 'value': '34'}, {'name': 'Fat', 'value': '12'}, {'name': 'Protein', 'value': '24'}, {'name': 'Sodium', 'value': '402'}, {'name': 'Sugar', 'value': '34'}], 'name': 'Pauls - Smarter White Milk, 600 ml'}, {'nutritions': [{'name': 'Calories', 'value': '500'}, {'name': 'Carbs', 'value': '0'}, {'name': 'Fat', 'value': '0'}, {'name': 'Protein', 'value': '0'}, {'name': 'Sodium', 'value': '0'}, {'name': 'Sugar', 'value': '0'}], 'name': 'Quick Added Calories, 500 calories'}, {'nutritions': [{'name': 'Calories', 'value': '1,000'}, {'name': 'Carbs', 'value': '0'}, {'name': 'Fat', 'value': '0'}, {'name': 'Protein', 'value': '0'}, {'name': 'Sodium', 'value': '0'}, {'name': 'Sugar', 'value': '0'}], 'name': 'Quick Added Calories, 1,000 calories'}], 'sequence': 1}]\n",
      "\n",
      "------------- Goal -------------\n",
      "{'total': [{'name': 'Calories', 'value': 2430}, {'name': 'Carbs', 'value': 96}, {'name': 'Fat', 'value': 37}, {'name': 'Protein', 'value': 50}, {'name': 'Sodium', 'value': 855}, {'name': 'Sugar', 'value': 63}], 'goal': [{'name': 'Calories', 'value': 1572}, {'name': 'Carbs', 'value': 196}, {'name': 'Fat', 'value': 52}, {'name': 'Protein', 'value': 79}, {'name': 'Sodium', 'value': 2300}, {'name': 'Sugar', 'value': 59}]}\n"
     ]
    }
   ],
   "source": [
    "details = get_details_for_index(train, 0)\n",
    "\n",
    "print('\\n------------- User ' + str(details[0]) + ' Date ' + str(details[1]) + ' -------------\\n')\n",
    "print('------------- Food Entries -------------')\n",
    "print(details[2])\n",
    "print('\\n------------- Goal -------------')\n",
    "print(details[3])"
   ]
  },
  {
   "cell_type": "markdown",
   "metadata": {},
   "source": [
    "# მოდელისთვის მომზადება"
   ]
  },
  {
   "cell_type": "markdown",
   "metadata": {},
   "source": [
    "<span style=\"font-size: 16px;\">ვინაიდან მომხმარებლის მომდევნო საკვების გასარკვევად მნიშვნელოვანია რომ მაგალითები ყოველდღიური და ჯანსაღი დიეტებიდან ავიღოთ, საჭიროა, რომ დიეტების ხანგრძლივობა არ იყოს ხანმოკლე. მოდელისთვის მოსამზადებლად თავიდაპირველად მონაცემებიდან ვნახოთ, თუ რომელი მომხმარებლის ჩანაწერები (დიეტები) არის ზუსტად 35 დღის, ან უფრო მეტი ხანგრძლივობის (35 დღეზე ხანრგრძლივი ჩანაწერებიდან გამოვიყენებთ მხოლოდ პირველ 35 დღეს).</span>"
   ]
  },
  {
   "cell_type": "code",
   "execution_count": 55,
   "metadata": {
    "scrolled": true
   },
   "outputs": [
    {
     "name": "stdout",
     "output_type": "stream",
     "text": [
      "9895 მომხმარებლიდან 35 დღეზე ხანგრძლივი დიეტის ჩანაწერი არის 5425 მომხმარებელზე\n",
      "აღნიშნულ მომხმარებლების საერთო დიეტის დღეების რაოდენობა კი 527788-ია\n"
     ]
    }
   ],
   "source": [
    "# Minimum needed amount of days for the user's diet\n",
    "NEEDED_DAYS_FOR_DIET = 35\n",
    "\n",
    "# We will keep track of all the users whose diets' days \n",
    "# are less than needed amount in this array\n",
    "invalid_users = []\n",
    "\n",
    "days_count = 0\n",
    "all_users = 0\n",
    "valid_diets_count = 0\n",
    "valid_diets_days_count = 0\n",
    "curr_user_id = train.iloc[0, 0]\n",
    "for i in range(len(train.index)):\n",
    "    # Get the details of the day for the current row\n",
    "    curr_day_user_id = train.iloc[i, 0]\n",
    "\n",
    "    if curr_day_user_id != curr_user_id:\n",
    "        all_users += 1\n",
    "        if days_count >= NEEDED_DAYS_FOR_DIET:\n",
    "            valid_diets_count += 1\n",
    "            valid_diets_days_count += days_count\n",
    "        else:\n",
    "            invalid_users.append(curr_user_id)\n",
    "        curr_user_id = curr_day_user_id\n",
    "        days_count = 0 \n",
    "    days_count += 1\n",
    "\n",
    "# Last check after the loop\n",
    "if days_count >= NEEDED_DAYS_FOR_DIET:\n",
    "    valid_diets_count += 1\n",
    "    valid_diets_days_count += days_count\n",
    "else:\n",
    "    invalid_users.append(curr_user_id)\n",
    "    \n",
    "print('{0} მომხმარებლიდან {1} დღეზე ხანგრძლივი დიეტის ჩანაწერი არის {2} მომხმარებელზე'.format(\n",
    "    all_users, NEEDED_DAYS_FOR_DIET, valid_diets_count))\n",
    "print('აღნიშნულ მომხმარებლების საერთო დიეტის დღეების რაოდენობა კი ' + str(valid_diets_days_count) + '-ია')"
   ]
  },
  {
   "cell_type": "markdown",
   "metadata": {},
   "source": [
    "<span style=\"font-size: 16px;\">ახლა კი წავშალოთ იმ მომხმარებლების მონაცემები, რომელთა დიეტის ხანგრძლივობაც 35 დღეზე ნაკლებია. მიღებული მონაცემები შევინახოთ `valid_days_trained` ცვლადში.</span>"
   ]
  },
  {
   "cell_type": "code",
   "execution_count": 56,
   "metadata": {},
   "outputs": [
    {
     "name": "stdout",
     "output_type": "stream",
     "text": [
      "527788\n"
     ]
    }
   ],
   "source": [
    "# First we make the copy of the original data\n",
    "valid_days_train = train.copy()\n",
    "\n",
    "# And now we drop the rows for the invalid users\n",
    "i = 0\n",
    "rows_to_drop = []\n",
    "while i < len(valid_days_train.index):\n",
    "    curr_user_id = valid_days_train.iloc[i, 0]\n",
    "    if curr_user_id in invalid_users:\n",
    "        rows_to_drop.append(i)\n",
    "    i += 1\n",
    "    \n",
    "valid_days_train = valid_days_train.drop(rows_to_drop)"
   ]
  },
  {
   "cell_type": "code",
   "execution_count": 58,
   "metadata": {},
   "outputs": [],
   "source": []
  },
  {
   "cell_type": "markdown",
   "metadata": {},
   "source": [
    "<span style=\"font-size: 16px;\">**!!!!!!!!!!ეს მერე!!!!!!!!!!1** შემდეგ ნაწილში ვნახოთ, თუ რომელი მომხმარებლების დიეტები არის ჩვენთვის ვალიდური (არ არის დარღვეული დიდი პროცენტობით) და დავტოვოთ მოხლოდ მათი ჩანაწერები</span>"
   ]
  },
  {
   "cell_type": "code",
   "execution_count": null,
   "metadata": {},
   "outputs": [],
   "source": []
  }
 ],
 "metadata": {
  "kernelspec": {
   "display_name": "Python 3",
   "language": "python",
   "name": "python3"
  },
  "language_info": {
   "codemirror_mode": {
    "name": "ipython",
    "version": 3
   },
   "file_extension": ".py",
   "mimetype": "text/x-python",
   "name": "python",
   "nbconvert_exporter": "python",
   "pygments_lexer": "ipython3",
   "version": "3.6.12"
  }
 },
 "nbformat": 4,
 "nbformat_minor": 4
}
